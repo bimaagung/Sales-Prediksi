{
 "cells": [
  {
   "cell_type": "code",
   "execution_count": null,
   "metadata": {},
   "outputs": [],
   "source": [
    "#library\n",
    "import numpy as np\n",
    "from sklearn.externals import joblib\n",
    "from sklearn.linear_model import LinearRegression\n",
    "#dataset \n",
    "X= np.array([400,350,1000,200,560,430,1500,780,670,480]).reshape((-1, 1))\n",
    "Y= np.array([1500,750,1760,500,800,900,890,1600,2000,1970])\n",
    "#call model regression\n",
    "model = LinearRegression().fit(X,Y)\n",
    "#save model\n",
    "filename = 'model.sav'\n",
    "joblib.dump(model, filename)\n",
    "#load model\n",
    "loaded_model = joblib.load(filename)\n",
    "#prediction model\n",
    "loaded_model.predict(20)"
   ]
  },
  {
   "cell_type": "code",
   "execution_count": null,
   "metadata": {},
   "outputs": [],
   "source": []
  }
 ],
 "metadata": {
  "kernelspec": {
   "display_name": "Python 3",
   "language": "python",
   "name": "python3"
  },
  "language_info": {
   "codemirror_mode": {
    "name": "ipython",
    "version": 3
   },
   "file_extension": ".py",
   "mimetype": "text/x-python",
   "name": "python",
   "nbconvert_exporter": "python",
   "pygments_lexer": "ipython3",
   "version": "3.7.6"
  }
 },
 "nbformat": 4,
 "nbformat_minor": 4
}
